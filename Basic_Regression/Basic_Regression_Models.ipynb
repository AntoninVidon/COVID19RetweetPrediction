{
 "cells": [
  {
   "cell_type": "markdown",
   "metadata": {},
   "source": [
    "# Basic Regression Models"
   ]
  },
  {
   "cell_type": "code",
   "execution_count": 3,
   "metadata": {},
   "outputs": [],
   "source": [
    "import pandas as pd\n",
    "import numpy as np\n",
    "from sklearn.metrics import mean_absolute_error\n",
    "from verstack.stratified_continuous_split import scsplit # to split data\n",
    "import statsmodels.formula.api as smf # quantile regression\n",
    "from sklearn.ensemble import GradientBoostingRegressor # gradient boosting regression"
   ]
  },
  {
   "cell_type": "markdown",
   "metadata": {},
   "source": [
    "## Import pre-processed data"
   ]
  },
  {
   "cell_type": "code",
   "execution_count": 4,
   "metadata": {},
   "outputs": [],
   "source": [
    "train_data = pd.read_pickle(\"Preprocessing_Data_train_processed.pkl\")\n",
    "eval_data = pd.read_pickle(\"Preprocessing_Data_eval_processed.pkl\")\n",
    "#train_data = pd.read_pickle(\"../Preprocessing/Data/train_processed.pkl\")\n",
    "#eval_data = pd.read_pickle(\"../Preprocessing/Data/eval_processed.pkl\")"
   ]
  },
  {
   "cell_type": "code",
   "execution_count": 8,
   "metadata": {},
   "outputs": [],
   "source": [
    "X_train, X_test, y_train, y_test = scsplit(train_data, train_data['retweet_count'], stratify=train_data['retweet_count'], \n",
    "                                           train_size=0.7, test_size=0.3)"
   ]
  },
  {
   "cell_type": "markdown",
   "metadata": {},
   "source": [
    "## Constant null prediction"
   ]
  },
  {
   "cell_type": "code",
   "execution_count": 11,
   "metadata": {},
   "outputs": [
    {
     "name": "stdout",
     "output_type": "stream",
     "text": [
      "We input a value of 0 for all #retweets\n",
      "MAE on tweets with url: 272.4794352267956\n",
      "MAE on tweets without url: 85.13883699464648\n",
      "Overall MAE: 145.45749346631018\n"
     ]
    }
   ],
   "source": [
    "y_pred = np.zeros(len(y_test))\n",
    "\n",
    "urltrue_test = pd.notna(X_test['urls']) # rows from X_test corresponding to tweets with at least one URL\n",
    "\n",
    "print(\"We input a value of 0 for all #retweets\")\n",
    "\n",
    "print(\"MAE on tweets with url:\", mean_absolute_error(y_true=y_test[urltrue_test], y_pred=y_pred[urltrue_test]))\n",
    "print(\"MAE on tweets without url:\", mean_absolute_error(y_true=y_test[~urltrue_test], y_pred=y_pred[~urltrue_test]))\n",
    "print(\"Overall MAE:\", mean_absolute_error(y_true=y_test, y_pred=y_pred))"
   ]
  },
  {
   "cell_type": "markdown",
   "metadata": {},
   "source": [
    "## Quantile Regression"
   ]
  },
  {
   "cell_type": "code",
   "execution_count": 24,
   "metadata": {},
   "outputs": [
    {
     "name": "stdout",
     "output_type": "stream",
     "text": [
      "MAE on tweets with url: 267.7827013405926\n",
      "MAE on tweets without url: 85.13883699464648\n",
      "Overall MAE: 143.94527091287495\n"
     ]
    },
    {
     "name": "stderr",
     "output_type": "stream",
     "text": [
      "C:\\Users\\anton\\anaconda3\\lib\\site-packages\\statsmodels\\regression\\quantile_regression.py:190: IterationLimitWarning: Maximum number of iterations (100) reached.\n",
      "  warnings.warn(\"Maximum number of iterations (\" + str(max_iter) +\n"
     ]
    }
   ],
   "source": [
    "y_pred = np.zeros(len(y_test))\n",
    "\n",
    "urltrue_train = pd.notna(X_train['urls']) # rows from X_train corresponding to tweets with at least one URL\n",
    "urltrue_test = pd.notna(X_test['urls']) # rows from X_test corresponding to tweets with at least one URL\n",
    "\n",
    "reg_data = pd.concat([X_train[['user_followers_count', 'user_verified', 'url_count' , 'text_length']][urltrue_train], y_train[urltrue_train]], axis = 1)\n",
    "\n",
    "mod = smf.quantreg('retweet_count ~ user_followers_count + user_verified + url_count + text_length', reg_data)\n",
    "\n",
    "res = mod.fit(q=.5, max_iter = 100)\n",
    "\n",
    "y_pred[urltrue_test] = res.predict(X_test[['user_followers_count', 'user_verified', 'url_count' , 'text_length']][urltrue_test])\n",
    "\n",
    "print(\"MAE on tweets with url:\", mean_absolute_error(y_true = y_test[urltrue_test], y_pred = y_pred[urltrue_test]))\n",
    "print(\"MAE on tweets without url:\", mean_absolute_error(y_true = y_test[~urltrue_test], y_pred = y_pred[~urltrue_test]))\n",
    "print(\"Overall MAE:\", mean_absolute_error(y_true=y_test, y_pred = y_pred))"
   ]
  },
  {
   "cell_type": "markdown",
   "metadata": {},
   "source": [
    "## Gradient Boosting Regression"
   ]
  },
  {
   "cell_type": "code",
   "execution_count": 25,
   "metadata": {},
   "outputs": [
    {
     "name": "stdout",
     "output_type": "stream",
     "text": [
      "MAE on tweets with url: 257.7954116419464\n",
      "MAE on tweets without url: 85.13883699464648\n",
      "Overall MAE: 140.72963104570042\n"
     ]
    }
   ],
   "source": [
    "y_pred = np.zeros(len(y_test))\n",
    "\n",
    "urltrue_train = pd.notna(X_train['urls'])\n",
    "urltrue_test = pd.notna(X_test['urls'])\n",
    "\n",
    "reg = GradientBoostingRegressor(loss = 'lad')\n",
    "\n",
    "reg.fit(X_train[['user_followers_count',  'user_verified', 'url_count', 'text_length']][urltrue_train], y_train[urltrue_train])\n",
    "\n",
    "y_pred[urltrue_test] = reg.predict(X_test[['user_followers_count',  'user_verified', 'url_count', 'text_length']][urltrue_test])\n",
    "\n",
    "print(\"MAE on tweets with url:\", mean_absolute_error(y_true = y_test[urltrue_test], y_pred = y_pred[urltrue_test]))\n",
    "print(\"MAE on tweets without url:\", mean_absolute_error(y_true = y_test[~urltrue_test], y_pred = y_pred[~urltrue_test]))\n",
    "print(\"Overall MAE:\", mean_absolute_error(y_true = y_test, y_pred = y_pred))"
   ]
  }
 ],
 "metadata": {
  "kernelspec": {
   "display_name": "Python 3",
   "language": "python",
   "name": "python3"
  },
  "language_info": {
   "codemirror_mode": {
    "name": "ipython",
    "version": 3
   },
   "file_extension": ".py",
   "mimetype": "text/x-python",
   "name": "python",
   "nbconvert_exporter": "python",
   "pygments_lexer": "ipython3",
   "version": "3.8.3"
  }
 },
 "nbformat": 4,
 "nbformat_minor": 4
}
