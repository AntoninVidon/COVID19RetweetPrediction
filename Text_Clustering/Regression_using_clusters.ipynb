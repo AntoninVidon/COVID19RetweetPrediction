{
 "cells": [
  {
   "cell_type": "code",
   "execution_count": 2,
   "metadata": {},
   "outputs": [],
   "source": [
    "import pandas as pd\n",
    "import numpy as np\n",
    "from time import time\n",
    "import matplotlib.pyplot as plt\n",
    "from sklearn.ensemble import GradientBoostingRegressor\n",
    "from sklearn.metrics import mean_absolute_error\n",
    "from sklearn.model_selection import train_test_split"
   ]
  },
  {
   "cell_type": "markdown",
   "metadata": {},
   "source": [
    "### 1. Import Pre-processed data"
   ]
  },
  {
   "cell_type": "code",
   "execution_count": 3,
   "metadata": {},
   "outputs": [],
   "source": [
    "n_features = 20000\n",
    "n_components = 800\n",
    "n_clusters = 7"
   ]
  },
  {
   "cell_type": "code",
   "execution_count": 4,
   "metadata": {},
   "outputs": [
    {
     "data": {
      "text/plain": [
       "'train_text_20000_800_7.pkl'"
      ]
     },
     "execution_count": 4,
     "metadata": {},
     "output_type": "execute_result"
    }
   ],
   "source": [
    "train_title = f'train_text_{n_features:0}_{n_components:0}_{n_clusters:0}.pkl'\n",
    "train_title"
   ]
  },
  {
   "cell_type": "code",
   "execution_count": 5,
   "metadata": {},
   "outputs": [
    {
     "data": {
      "text/plain": [
       "'eval_text_20000_800_7.pkl'"
      ]
     },
     "execution_count": 5,
     "metadata": {},
     "output_type": "execute_result"
    }
   ],
   "source": [
    "eval_title = f'eval_text_{n_features:0}_{n_components:0}_{n_clusters:0}.pkl'\n",
    "eval_title"
   ]
  },
  {
   "cell_type": "code",
   "execution_count": 7,
   "metadata": {},
   "outputs": [],
   "source": [
    "clusters_train = pd.read_pickle(\"Data/\"+train_title)\n",
    "clusters_eval = pd.read_pickle(\"Data/\"+eval_title)"
   ]
  },
  {
   "cell_type": "code",
   "execution_count": 10,
   "metadata": {},
   "outputs": [],
   "source": [
    "clusterised_train_data = pd.read_pickle(\"../Preprocessing/Data/train_processed.pkl\")\n",
    "clusterised_eval_data = pd.read_pickle(\"../Preprocessing/Data/eval_processed.pkl\")"
   ]
  },
  {
   "cell_type": "code",
   "execution_count": 12,
   "metadata": {},
   "outputs": [],
   "source": [
    "clusterised_train_data['text_cluster'] = clusters_train\n",
    "clusterised_eval_data['text_cluster'] = clusters_eval"
   ]
  },
  {
   "cell_type": "markdown",
   "metadata": {},
   "source": [
    "### 2. Clusterised training and test"
   ]
  },
  {
   "cell_type": "code",
   "execution_count": 35,
   "metadata": {},
   "outputs": [
    {
     "name": "stdout",
     "output_type": "stream",
     "text": [
      "Prediction error for cluster 0 : 202.5680549542123\n",
      "Prediction error for cluster 1 : 169.31596950713924\n",
      "Prediction error for cluster 2 : 233.4264398566784\n",
      "Prediction error for cluster 3 : 247.9731750414504\n",
      "Prediction error for cluster 4 : 27.202168951233038\n",
      "Prediction error for cluster 5 : 181.03776218820607\n"
     ]
    }
   ],
   "source": [
    "for i in range(n_clusters):\n",
    "    X_i = clusterised_train_data[clusterised_train_data['text_cluster'] == i]\n",
    "    #X_i = X_i[X_i['url_count']>0]\n",
    "    \n",
    "    X_train_i, X_test_i, y_train_i, y_test_i = train_test_split(X_i, X_i['retweet_count'], train_size=0.7, test_size=0.3)\n",
    "    \n",
    "    # one only keeps the most relevant feature for regression\n",
    "    X_train_i = X_train_i[['user_followers_count', 'user_friends_count', 'hashtag_count', 'text_length']]\n",
    "    X_test_i = X_test_i[['user_followers_count', 'user_friends_count', 'hashtag_count', 'text_length']]\n",
    "    \n",
    "    # train regressor\n",
    "    reg = GradientBoostingRegressor()\n",
    "    reg.fit(X_train_i, y_train_i)\n",
    "    \n",
    "    # make a prediction    \n",
    "    y_pred_i = reg.predict(X_test_i)\n",
    "    print(\"Prediction error for cluster\",i,\":\", mean_absolute_error(y_true=y_test_i, y_pred=y_pred_i))   "
   ]
  },
  {
   "cell_type": "markdown",
   "metadata": {},
   "source": [
    "### 3. Train on whole data set"
   ]
  },
  {
   "cell_type": "code",
   "execution_count": 37,
   "metadata": {},
   "outputs": [],
   "source": [
    "models = []\n",
    "for i in range(n_clusters):\n",
    "    X_i = clusterised_train_data[clusterised_train_data['text_cluster'] == i]\n",
    "    y_i = X_i['retweet_count']\n",
    "    \n",
    "    # one only keeps the most relevant feature for regression\n",
    "    X_i = X_i[['user_followers_count', 'user_friends_count', 'hashtag_count', 'text_length']]\n",
    "    \n",
    "    \n",
    "    # train regressor\n",
    "    models.append(GradientBoostingRegressor())\n",
    "    models[i].fit(X_i, y_i)"
   ]
  },
  {
   "cell_type": "code",
   "execution_count": null,
   "metadata": {},
   "outputs": [],
   "source": []
  }
 ],
 "metadata": {
  "kernelspec": {
   "display_name": "Python 3",
   "language": "python",
   "name": "python3"
  },
  "language_info": {
   "codemirror_mode": {
    "name": "ipython",
    "version": 3
   },
   "file_extension": ".py",
   "mimetype": "text/x-python",
   "name": "python",
   "nbconvert_exporter": "python",
   "pygments_lexer": "ipython3",
   "version": "3.8.5"
  }
 },
 "nbformat": 4,
 "nbformat_minor": 4
}
