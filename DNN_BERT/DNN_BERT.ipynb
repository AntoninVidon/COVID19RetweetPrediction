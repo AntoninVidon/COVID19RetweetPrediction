{
 "cells": [
  {
   "cell_type": "markdown",
   "metadata": {},
   "source": [
    "# DNN on Bert data and features"
   ]
  },
  {
   "cell_type": "code",
   "execution_count": 4,
   "metadata": {},
   "outputs": [],
   "source": [
    "import csv\n",
    "import numpy as np\n",
    "import pandas as pd\n",
    "from transformers import BertTokenizer\n",
    "from tqdm import tqdm\n",
    "import torch\n",
    "import torch.nn as nn\n",
    "from collections import OrderedDict\n",
    "import matplotlib.pyplot as plt"
   ]
  },
  {
   "cell_type": "code",
   "execution_count": 5,
   "metadata": {},
   "outputs": [],
   "source": [
    "# Imports from local scripts:\n",
    "from Training_Accuracy_functions import accuracy, train_epoch"
   ]
  },
  {
   "cell_type": "markdown",
   "metadata": {},
   "source": [
    "#### Using GPU"
   ]
  },
  {
   "cell_type": "code",
   "execution_count": 6,
   "metadata": {},
   "outputs": [
    {
     "name": "stdout",
     "output_type": "stream",
     "text": [
      "There are 1 GPU(s) available.\n"
     ]
    }
   ],
   "source": [
    "\n",
    "if torch.cuda.is_available():    \n",
    "    device = torch.device(\"cuda\")\n",
    "    print('There are %d GPU(s) available.' % torch.cuda.device_count())\n",
    "else:\n",
    "    print('Using CPU.')\n",
    "    device = torch.device(\"cpu\")"
   ]
  },
  {
   "cell_type": "markdown",
   "metadata": {},
   "source": [
    "### Importing tweets"
   ]
  },
  {
   "cell_type": "code",
   "execution_count": 7,
   "metadata": {},
   "outputs": [],
   "source": [
    "# Load the training data\n",
    "train_data = pd.read_csv(\"../Data/train.csv\")\n",
    "\n",
    "# Load the test data:\n",
    "eval_data = pd.read_csv(\"../Data/evaluation.csv\")"
   ]
  },
  {
   "cell_type": "markdown",
   "metadata": {},
   "source": [
    "### Loading the data"
   ]
  },
  {
   "cell_type": "markdown",
   "metadata": {},
   "source": [
    "##### Training Data"
   ]
  },
  {
   "cell_type": "code",
   "execution_count": 8,
   "metadata": {},
   "outputs": [
    {
     "data": {
      "text/plain": [
       "tensor([[1.0100e+02, 1.5488e+04, 2.2320e+03,  ..., 0.0000e+00, 4.0000e+00,\n",
       "         0.0000e+00],\n",
       "        [1.0100e+02, 2.0870e+03, 1.9970e+03,  ..., 0.0000e+00, 1.4000e+01,\n",
       "         0.0000e+00],\n",
       "        [1.0100e+02, 2.2140e+03, 6.5300e+03,  ..., 0.0000e+00, 2.1000e+01,\n",
       "         0.0000e+00],\n",
       "        ...,\n",
       "        [1.0100e+02, 1.0050e+03, 2.6950e+03,  ..., 0.0000e+00, 3.8000e+01,\n",
       "         1.0000e+00],\n",
       "        [1.0100e+02, 2.0100e+03, 1.3268e+04,  ..., 0.0000e+00, 1.9000e+01,\n",
       "         0.0000e+00],\n",
       "        [1.0100e+02, 2.0570e+03, 2.4280e+03,  ..., 0.0000e+00, 4.0000e+00,\n",
       "         0.0000e+00]], device='cuda:0')"
      ]
     },
     "execution_count": 8,
     "metadata": {},
     "output_type": "execute_result"
    }
   ],
   "source": [
    "input_ids = torch.load('Tensors/Training/Tokens_13features.pt')\n",
    "input_ids = input_ids.float().cuda()\n",
    "input_ids"
   ]
  },
  {
   "cell_type": "code",
   "execution_count": 9,
   "metadata": {},
   "outputs": [
    {
     "data": {
      "text/plain": [
       "tensor([0, 0, 0,  ..., 8, 0, 0], device='cuda:0')"
      ]
     },
     "execution_count": 9,
     "metadata": {},
     "output_type": "execute_result"
    }
   ],
   "source": [
    "labels = torch.load('Tensors/Training/Retweets.pt')\n",
    "labels = labels.cuda()\n",
    "labels"
   ]
  },
  {
   "cell_type": "markdown",
   "metadata": {},
   "source": [
    "##### Testing Data"
   ]
  },
  {
   "cell_type": "code",
   "execution_count": 10,
   "metadata": {},
   "outputs": [
    {
     "data": {
      "text/plain": [
       "tensor([[1.0100e+02, 2.1887e+04, 2.3350e+04,  ..., 0.0000e+00, 1.6000e+01,\n",
       "         0.0000e+00],\n",
       "        [1.0100e+02, 2.0230e+03, 1.6142e+04,  ..., 0.0000e+00, 4.0000e+00,\n",
       "         0.0000e+00],\n",
       "        [1.0100e+02, 1.0610e+03, 1.5210e+03,  ..., 0.0000e+00, 2.2000e+01,\n",
       "         0.0000e+00],\n",
       "        ...,\n",
       "        [1.0100e+02, 2.0090e+03, 1.0050e+03,  ..., 0.0000e+00, 3.0000e+00,\n",
       "         0.0000e+00],\n",
       "        [1.0100e+02, 2.0090e+03, 2.0030e+03,  ..., 0.0000e+00, 2.1000e+01,\n",
       "         0.0000e+00],\n",
       "        [1.0100e+02, 2.2000e+03, 8.0520e+03,  ..., 0.0000e+00, 3.0000e+00,\n",
       "         1.0000e+00]], device='cuda:0')"
      ]
     },
     "execution_count": 10,
     "metadata": {},
     "output_type": "execute_result"
    }
   ],
   "source": [
    "input_ids_test = torch.load('Tensors/Testing/Tokens_13features.pt').cuda()\n",
    "input_ids_test"
   ]
  },
  {
   "cell_type": "markdown",
   "metadata": {},
   "source": [
    "### Scaling features:"
   ]
  },
  {
   "cell_type": "code",
   "execution_count": 8,
   "metadata": {},
   "outputs": [],
   "source": [
    "#urls = pd.notna(train_data['urls'])\n",
    "def scaling(inp):\n",
    "    for i in(-6,-5,-1):\n",
    "        x = inp[:,i]\n",
    "        m = x.mean(0, keepdim=True)\n",
    "        s = x.std(0, unbiased=False, keepdim=True)\n",
    "        x -= m\n",
    "        x /= s\n",
    "        inp[:,i] = x\n",
    "        \n",
    "    return inp\n",
    "\n"
   ]
  },
  {
   "cell_type": "code",
   "execution_count": 10,
   "metadata": {},
   "outputs": [
    {
     "data": {
      "text/plain": [
       "tensor([[-0.0879, -0.2317, -0.6884],\n",
       "        [-0.1473, -0.2317, -0.6884],\n",
       "        [-0.0242, -0.2317, -0.6884],\n",
       "        ...,\n",
       "        [-0.1441, -0.2317,  1.4526],\n",
       "        [-0.1537, -0.2317, -0.6884],\n",
       "        [-0.1452, -0.2317, -0.6884]], device='cuda:0')"
      ]
     },
     "execution_count": 10,
     "metadata": {},
     "output_type": "execute_result"
    }
   ],
   "source": [
    "input_ids = scaling(input_ids)\n",
    "input_ids[:,[-6,-5,-1]]"
   ]
  },
  {
   "cell_type": "code",
   "execution_count": 11,
   "metadata": {
    "scrolled": true
   },
   "outputs": [
    {
     "data": {
      "text/plain": [
       "tensor([[-0.1704, -0.2286, -0.6900],\n",
       "        [-0.1557, -0.2286, -0.6900],\n",
       "        [-0.1638, -0.2286, -0.6900],\n",
       "        ...,\n",
       "        [-0.1632, -0.2286, -0.6900],\n",
       "        [-0.1548, -0.2286, -0.6900],\n",
       "        [-0.1521, -0.2286,  1.4493]], device='cuda:0')"
      ]
     },
     "execution_count": 11,
     "metadata": {},
     "output_type": "execute_result"
    }
   ],
   "source": [
    "input_ids_test = scaling(input_ids_test)\n",
    "input_ids_test[:,[-6,-5,-1]]"
   ]
  },
  {
   "cell_type": "markdown",
   "metadata": {},
   "source": [
    "### Defining model:"
   ]
  },
  {
   "cell_type": "code",
   "execution_count": 12,
   "metadata": {},
   "outputs": [],
   "source": [
    "## MLP with with 2 hidden layers \n",
    "\n",
    "base_model = nn.Sequential(OrderedDict([\n",
    "          #('inpnorm', nn.LayerNorm(512, elementwise_affine= False)),#not present\n",
    "          ('lin1', nn.Linear(512, 512, bias=True)),##167\n",
    "          ('leakyrelu1', nn.LeakyReLU(0.2)),# Leaky relu to prevent vanishing gradient problem\n",
    "          #('drop1', nn.Dropout(0.3)),\n",
    "          ('lin2', nn.Linear(512, 512, bias=True)),##52\n",
    "          ('leakyrelu2', nn.LeakyReLU(0.2)),\n",
    "          #('drop2', nn.Dropout(0.3)),\n",
    "          ('lin3', nn.Linear(512, 128, bias=True)),\n",
    "          ('leakyrelu3', nn.LeakyReLU(0.2)),\n",
    "          ('output_layer', nn.Linear(128, 1, bias=True)),\n",
    "          #('relu', nn.ReLU())#not present\n",
    "        ]))\n",
    "\n",
    "base_model = base_model.cuda()"
   ]
  },
  {
   "cell_type": "code",
   "execution_count": 13,
   "metadata": {},
   "outputs": [
    {
     "data": {
      "text/plain": [
       "Sequential(\n",
       "  (lin1): Linear(in_features=512, out_features=512, bias=True)\n",
       "  (leakyrelu1): LeakyReLU(negative_slope=0.2)\n",
       "  (lin2): Linear(in_features=512, out_features=512, bias=True)\n",
       "  (leakyrelu2): LeakyReLU(negative_slope=0.2)\n",
       "  (lin3): Linear(in_features=512, out_features=128, bias=True)\n",
       "  (leakyrelu3): LeakyReLU(negative_slope=0.2)\n",
       "  (output_layer): Linear(in_features=128, out_features=1, bias=True)\n",
       ")"
      ]
     },
     "execution_count": 13,
     "metadata": {},
     "output_type": "execute_result"
    }
   ],
   "source": [
    "base_model"
   ]
  },
  {
   "cell_type": "code",
   "execution_count": 19,
   "metadata": {},
   "outputs": [
    {
     "name": "stdout",
     "output_type": "stream",
     "text": [
      "tensor(1359.1155, device='cuda:0', grad_fn=<MaxBackward1>)\n",
      "tensor(-25.7862, device='cuda:0', grad_fn=<MinBackward1>)\n"
     ]
    },
    {
     "data": {
      "text/plain": [
       "tensor(9.5832, device='cuda:0', grad_fn=<MeanBackward0>)"
      ]
     },
     "execution_count": 19,
     "metadata": {},
     "output_type": "execute_result"
    }
   ],
   "source": [
    "base_model.eval()\n",
    "print(base_model(input_ids[:10000]).max())\n",
    "print(base_model(input_ids[:10000]).min())\n",
    "base_model(input_ids[:10000]).mean()"
   ]
  },
  {
   "cell_type": "markdown",
   "metadata": {},
   "source": [
    "### Splitting Data"
   ]
  },
  {
   "cell_type": "code",
   "execution_count": 15,
   "metadata": {},
   "outputs": [],
   "source": [
    "from torch.utils.data import TensorDataset, random_split\n",
    "\n",
    "# Combine the training inputs into a TensorDataset.\n",
    "dataset = TensorDataset(input_ids, labels)\n",
    "\n",
    "# Create a 90-10 train-validation split.\n",
    "\n",
    "# Calculate the number of samples to include in each set.\n",
    "train_size = int(0.7 * len(dataset))\n",
    "val_size = len(dataset) - train_size\n",
    "\n",
    "# Divide the dataset by randomly selecting samples.\n",
    "train_dataset, val_dataset = random_split(dataset, [train_size, val_size])\n"
   ]
  },
  {
   "cell_type": "markdown",
   "metadata": {},
   "source": [
    "### Setting the data loaders:"
   ]
  },
  {
   "cell_type": "code",
   "execution_count": 16,
   "metadata": {},
   "outputs": [],
   "source": [
    "from torch.utils.data import DataLoader, RandomSampler, SequentialSampler\n",
    "\n",
    "batch_size = 64\n",
    "\n",
    "# Create the DataLoaders for our training and validation sets.\n",
    "# We'll take training samples in random order. \n",
    "train_dataloader = DataLoader(\n",
    "            train_dataset,  # The training samples.\n",
    "            sampler = RandomSampler(train_dataset), # Select batches randomly\n",
    "            batch_size = batch_size # Trains with this batch size.\n",
    "        )\n",
    "\n",
    "# For validation the order doesn't matter, so we'll just read them sequentially.\n",
    "validation_dataloader = DataLoader(\n",
    "            val_dataset, # The validation samples.\n",
    "            sampler = SequentialSampler(val_dataset), # Pull out batches sequentially.\n",
    "            batch_size = batch_size # Evaluate with this batch size.\n",
    "        )"
   ]
  },
  {
   "cell_type": "markdown",
   "metadata": {},
   "source": [
    "### Training the NN with our training functions:"
   ]
  },
  {
   "cell_type": "code",
   "execution_count": 17,
   "metadata": {
    "scrolled": false
   },
   "outputs": [
    {
     "name": "stderr",
     "output_type": "stream",
     "text": [
      "  1%|          | 1/100 [00:14<23:22, 14.17s/it]"
     ]
    },
    {
     "name": "stdout",
     "output_type": "stream",
     "text": [
      "Current validation loss:  145.4719696044922\n",
      "Current training loss:  164.10336303710938\n"
     ]
    },
    {
     "name": "stderr",
     "output_type": "stream",
     "text": [
      "  6%|▌         | 6/100 [01:21<21:13, 13.55s/it]"
     ]
    },
    {
     "name": "stdout",
     "output_type": "stream",
     "text": [
      "Current validation loss:  145.34274291992188\n",
      "Current training loss:  158.76609802246094\n"
     ]
    },
    {
     "name": "stderr",
     "output_type": "stream",
     "text": [
      " 11%|█         | 11/100 [02:27<19:50, 13.38s/it]"
     ]
    },
    {
     "name": "stdout",
     "output_type": "stream",
     "text": [
      "Current validation loss:  150.00238037109375\n",
      "Current training loss:  153.76820373535156\n"
     ]
    },
    {
     "name": "stderr",
     "output_type": "stream",
     "text": [
      " 14%|█▍        | 14/100 [03:08<19:14, 13.43s/it]"
     ]
    },
    {
     "name": "stdout",
     "output_type": "stream",
     "text": [
      "Epoch    14: reducing learning rate of group 0 to 5.0000e-04.\n"
     ]
    },
    {
     "name": "stderr",
     "output_type": "stream",
     "text": [
      " 16%|█▌        | 16/100 [03:35<18:44, 13.39s/it]"
     ]
    },
    {
     "name": "stdout",
     "output_type": "stream",
     "text": [
      "Current validation loss:  145.46995544433594\n",
      "Current training loss:  148.313720703125\n"
     ]
    },
    {
     "name": "stderr",
     "output_type": "stream",
     "text": [
      " 21%|██        | 21/100 [04:41<17:28, 13.28s/it]"
     ]
    },
    {
     "name": "stdout",
     "output_type": "stream",
     "text": [
      "Current validation loss:  145.71908569335938\n",
      "Current training loss:  147.57080078125\n"
     ]
    },
    {
     "name": "stderr",
     "output_type": "stream",
     "text": [
      " 26%|██▌       | 26/100 [05:47<16:15, 13.18s/it]"
     ]
    },
    {
     "name": "stdout",
     "output_type": "stream",
     "text": [
      "Current validation loss:  145.06808471679688\n",
      "Current training loss:  147.36575317382812\n"
     ]
    },
    {
     "name": "stderr",
     "output_type": "stream",
     "text": [
      " 31%|███       | 31/100 [06:54<15:22, 13.37s/it]"
     ]
    },
    {
     "name": "stdout",
     "output_type": "stream",
     "text": [
      "Current validation loss:  145.45970153808594\n",
      "Current training loss:  147.54998779296875\n"
     ]
    },
    {
     "name": "stderr",
     "output_type": "stream",
     "text": [
      " 36%|███▌      | 36/100 [08:01<14:19, 13.43s/it]"
     ]
    },
    {
     "name": "stdout",
     "output_type": "stream",
     "text": [
      "Current validation loss:  144.91412353515625\n",
      "Current training loss:  147.2008056640625\n"
     ]
    },
    {
     "name": "stderr",
     "output_type": "stream",
     "text": [
      " 38%|███▊      | 38/100 [08:28<13:43, 13.28s/it]"
     ]
    },
    {
     "name": "stdout",
     "output_type": "stream",
     "text": [
      "Epoch    38: reducing learning rate of group 0 to 2.5000e-04.\n"
     ]
    },
    {
     "name": "stderr",
     "output_type": "stream",
     "text": [
      " 41%|████      | 41/100 [09:08<13:06, 13.33s/it]"
     ]
    },
    {
     "name": "stdout",
     "output_type": "stream",
     "text": [
      "Current validation loss:  144.83489990234375\n",
      "Current training loss:  146.48915100097656\n"
     ]
    },
    {
     "name": "stderr",
     "output_type": "stream",
     "text": [
      " 46%|████▌     | 46/100 [10:15<12:02, 13.38s/it]"
     ]
    },
    {
     "name": "stdout",
     "output_type": "stream",
     "text": [
      "Current validation loss:  144.81101989746094\n",
      "Current training loss:  146.55618286132812\n"
     ]
    },
    {
     "name": "stderr",
     "output_type": "stream",
     "text": [
      " 51%|█████     | 51/100 [11:22<10:55, 13.38s/it]"
     ]
    },
    {
     "name": "stdout",
     "output_type": "stream",
     "text": [
      "Current validation loss:  144.8406524658203\n",
      "Current training loss:  146.57894897460938\n"
     ]
    },
    {
     "name": "stderr",
     "output_type": "stream",
     "text": [
      "\r",
      " 52%|█████▏    | 52/100 [11:35<10:43, 13.40s/it]"
     ]
    },
    {
     "name": "stdout",
     "output_type": "stream",
     "text": [
      "Epoch    52: reducing learning rate of group 0 to 1.2500e-04.\n"
     ]
    },
    {
     "name": "stderr",
     "output_type": "stream",
     "text": [
      " 56%|█████▌    | 56/100 [12:29<09:52, 13.48s/it]"
     ]
    },
    {
     "name": "stdout",
     "output_type": "stream",
     "text": [
      "Current validation loss:  145.1781768798828\n",
      "Current training loss:  146.33961486816406\n"
     ]
    },
    {
     "name": "stderr",
     "output_type": "stream",
     "text": [
      " 60%|██████    | 60/100 [13:22<08:56, 13.41s/it]"
     ]
    },
    {
     "name": "stdout",
     "output_type": "stream",
     "text": [
      "Epoch    60: reducing learning rate of group 0 to 6.2500e-05.\n"
     ]
    },
    {
     "name": "stderr",
     "output_type": "stream",
     "text": [
      "\r",
      " 61%|██████    | 61/100 [13:36<08:43, 13.43s/it]"
     ]
    },
    {
     "name": "stdout",
     "output_type": "stream",
     "text": [
      "Current validation loss:  144.7781524658203\n",
      "Current training loss:  146.1804962158203\n"
     ]
    },
    {
     "name": "stderr",
     "output_type": "stream",
     "text": [
      " 66%|██████▌   | 66/100 [14:43<07:35, 13.40s/it]"
     ]
    },
    {
     "name": "stdout",
     "output_type": "stream",
     "text": [
      "Current validation loss:  144.7535858154297\n",
      "Current training loss:  145.92221069335938\n"
     ]
    },
    {
     "name": "stderr",
     "output_type": "stream",
     "text": [
      " 71%|███████   | 71/100 [15:50<06:31, 13.50s/it]"
     ]
    },
    {
     "name": "stdout",
     "output_type": "stream",
     "text": [
      "Current validation loss:  144.71815490722656\n",
      "Current training loss:  145.6713409423828\n"
     ]
    },
    {
     "name": "stderr",
     "output_type": "stream",
     "text": [
      " 76%|███████▌  | 76/100 [16:58<05:23, 13.48s/it]"
     ]
    },
    {
     "name": "stdout",
     "output_type": "stream",
     "text": [
      "Current validation loss:  144.79637145996094\n",
      "Current training loss:  145.3026123046875\n"
     ]
    },
    {
     "name": "stderr",
     "output_type": "stream",
     "text": [
      " 79%|███████▉  | 79/100 [17:38<04:41, 13.39s/it]"
     ]
    },
    {
     "name": "stdout",
     "output_type": "stream",
     "text": [
      "Epoch    79: reducing learning rate of group 0 to 3.1250e-05.\n"
     ]
    },
    {
     "name": "stderr",
     "output_type": "stream",
     "text": [
      " 81%|████████  | 81/100 [18:05<04:15, 13.43s/it]"
     ]
    },
    {
     "name": "stdout",
     "output_type": "stream",
     "text": [
      "Current validation loss:  144.83770751953125\n",
      "Current training loss:  144.52239990234375\n"
     ]
    },
    {
     "name": "stderr",
     "output_type": "stream",
     "text": [
      " 86%|████████▌ | 86/100 [19:11<03:07, 13.39s/it]"
     ]
    },
    {
     "name": "stdout",
     "output_type": "stream",
     "text": [
      "Current validation loss:  145.1467742919922\n",
      "Current training loss:  144.06491088867188\n",
      "The minimum MAE for validation is:  144.71815490722656\n"
     ]
    },
    {
     "name": "stderr",
     "output_type": "stream",
     "text": [
      "\n"
     ]
    }
   ],
   "source": [
    "## Hyper parameters:\n",
    "lr                 = 0.001\n",
    "scheduler_patience = 7\n",
    "scheduler_factor   = 0.5\n",
    "# Early stopping patience:\n",
    "patience           = 15\n",
    "# Printing period\n",
    "verbose_period     = 5\n",
    "model_name         = \"base_model_Bert_12features.pkl\"\n",
    "\n",
    "## Defining criterion, optimizer and scheduler for training\n",
    "criterion = nn.L1Loss()\n",
    "optimizer = torch.optim.RMSprop(base_model.parameters(), lr=lr)\n",
    "scheduler = torch.optim.lr_scheduler.ReduceLROnPlateau(optimizer, factor=scheduler_factor, patience=scheduler_patience, verbose = True)\n",
    "\n",
    "# Plotting grad:\n",
    "plotGrad  = False\n",
    "\n",
    "#init performance measures\n",
    "tr_loss    = []\n",
    "test_loss  = []\n",
    "min_loss   = float(\"inf\")\n",
    "p          = 0\n",
    "\n",
    "while(p < patience):\n",
    "    for epoch in tqdm(range(100)):\n",
    "\n",
    "        ## If the early stopping patience is exceeded, we stop the alg\n",
    "        if(p >= patience):\n",
    "            break\n",
    "\n",
    "        #computing loss for training and\n",
    "        trainingloss   = train_epoch(base_model, optimizer, train_dataloader, criterion, plotGrad).item()\n",
    "        validationloss = accuracy(base_model, validation_dataloader, criterion).item()\n",
    "\n",
    "        #update loss for training and val \n",
    "        tr_loss.append(trainingloss)\n",
    "        test_loss.append(validationloss)\n",
    "\n",
    "        #feed the validation loss to scheduler:\n",
    "        scheduler.step(validationloss)\n",
    "        \n",
    "        #Storing the min value of validation loss:\n",
    "        if(validationloss < min_loss):\n",
    "            min_loss = validationloss\n",
    "            p        = 0\n",
    "            \n",
    "            #Saving the best state dict:\n",
    "            torch.save(base_model.state_dict(), \"Models/\" + model_name)\n",
    "            \n",
    "        else:\n",
    "            p +=1\n",
    "            \n",
    "        #Printing:\n",
    "        if(epoch%verbose_period == 0):\n",
    "            print(\"Current validation loss: \", validationloss)\n",
    "            print(\"Current training loss: \", trainingloss)\n",
    "\n",
    "    \n",
    "print(\"The minimum MAE for validation is: \", min_loss)"
   ]
  },
  {
   "cell_type": "code",
   "execution_count": 18,
   "metadata": {
    "scrolled": true
   },
   "outputs": [
    {
     "data": {
      "image/png": "[encoded data removed]",
      "text/plain": [
       "<Figure size 432x288 with 1 Axes>"
      ]
     },
     "metadata": {
      "needs_background": "light"
     },
     "output_type": "display_data"
    }
   ],
   "source": [
    "plt.plot(tr_loss, label=\"Training loss\")\n",
    "plt.plot(test_loss, label=\"Validation loss\")\n",
    "plt.title(\"Training and validation Loss\")\n",
    "plt.xlabel(\"Iterations\")\n",
    "plt.ylabel(\"MAE\")\n",
    "\n",
    "plt.legend()\n",
    "plt.show()"
   ]
  },
  {
   "cell_type": "markdown",
   "metadata": {},
   "source": [
    "##### Saving the model:"
   ]
  },
  {
   "cell_type": "code",
   "execution_count": 84,
   "metadata": {},
   "outputs": [],
   "source": [
    "torch.save(base_model.state_dict(), \"Models/base_model_Bert_12features.pkl\")"
   ]
  },
  {
   "cell_type": "markdown",
   "metadata": {},
   "source": [
    "#### Loading the model:"
   ]
  },
  {
   "cell_type": "code",
   "execution_count": 20,
   "metadata": {},
   "outputs": [
    {
     "data": {
      "text/plain": [
       "<All keys matched successfully>"
      ]
     },
     "execution_count": 20,
     "metadata": {},
     "output_type": "execute_result"
    }
   ],
   "source": [
    "base_model.load_state_dict(torch.load(\"Models/base_model_Bert_12features.pkl\"))"
   ]
  },
  {
   "cell_type": "markdown",
   "metadata": {},
   "source": [
    "## Testing on data:"
   ]
  },
  {
   "cell_type": "code",
   "execution_count": 34,
   "metadata": {},
   "outputs": [],
   "source": [
    "input_ids_test = input_ids_test[urls_test]"
   ]
  },
  {
   "cell_type": "markdown",
   "metadata": {},
   "source": [
    "### Creating data loader"
   ]
  },
  {
   "cell_type": "code",
   "execution_count": 21,
   "metadata": {},
   "outputs": [],
   "source": [
    "from torch.utils.data import TensorDataset, random_split\n",
    "from torch.utils.data import DataLoader, RandomSampler, SequentialSampler\n",
    "\n",
    "test_dataset = TensorDataset(input_ids_test)\n",
    "\n",
    "batch_size = 32\n",
    "\n",
    "# For test data set \n",
    "test_dataloader = DataLoader(\n",
    "            test_dataset, # The validation samples.\n",
    "            sampler = SequentialSampler(test_dataset), # Pull out batches sequentially.\n",
    "            batch_size = batch_size # Evaluate with this batch size.\n",
    "        )"
   ]
  },
  {
   "cell_type": "code",
   "execution_count": 22,
   "metadata": {},
   "outputs": [],
   "source": [
    "pred = np.array([])\n",
    "\n",
    "base_model.eval()\n",
    "with torch.no_grad():\n",
    "        for i, X in enumerate(test_dataloader):\n",
    "            X = X[0]\n",
    "            current_batch_size = X.shape[0]\n",
    "\n",
    "            preds = base_model(X)\n",
    "            \n",
    "            pred = np.append(pred, preds.cpu().numpy())\n",
    "            #print(y_pred)\n",
    "            "
   ]
  },
  {
   "cell_type": "code",
   "execution_count": 23,
   "metadata": {},
   "outputs": [
    {
     "data": {
      "text/plain": [
       "210683"
      ]
     },
     "execution_count": 23,
     "metadata": {},
     "output_type": "execute_result"
    }
   ],
   "source": [
    "np.count_nonzero(pred >= 0.01)"
   ]
  },
  {
   "cell_type": "code",
   "execution_count": 28,
   "metadata": {},
   "outputs": [
    {
     "name": "stdout",
     "output_type": "stream",
     "text": [
      "2636.301025390625\n",
      "-86.26107788085938\n",
      "7.374722741994988\n"
     ]
    },
    {
     "data": {
      "text/plain": [
       "True"
      ]
     },
     "execution_count": 28,
     "metadata": {},
     "output_type": "execute_result"
    }
   ],
   "source": [
    "print(pred.max())\n",
    "print(pred.min())\n",
    "print(pred.mean())\n",
    "len(pred) == len(eval_data)"
   ]
  },
  {
   "cell_type": "code",
   "execution_count": 31,
   "metadata": {},
   "outputs": [],
   "source": [
    "y_pred = np.zeros(len(eval_data))\n",
    "y_pred = pred"
   ]
  },
  {
   "cell_type": "code",
   "execution_count": 33,
   "metadata": {},
   "outputs": [],
   "source": [
    "with open(\"Results/base_model_Bert_12features.txt\", 'w') as f:\n",
    "    writer = csv.writer(f)\n",
    "    writer.writerow([\"TweetID\", \"NoRetweets\"])\n",
    "    for index, prediction in enumerate(y_pred):\n",
    "        writer.writerow([str(eval_data['id'].iloc[index]) , str(prediction if prediction>=1 else 0)])"
   ]
  },
  {
   "cell_type": "markdown",
   "metadata": {},
   "source": [
    "### Training with fastai"
   ]
  },
  {
   "cell_type": "markdown",
   "metadata": {},
   "source": [
    "##### Setting up:"
   ]
  },
  {
   "cell_type": "code",
   "execution_count": 17,
   "metadata": {},
   "outputs": [
    {
     "name": "stdout",
     "output_type": "stream",
     "text": [
      "2.1.8\n"
     ]
    }
   ],
   "source": [
    "## import the tools from fastai:\n",
    "import fastai\n",
    "from fastai.basics import *\n",
    "print(fastai.__version__)\n",
    "\n",
    "\n",
    "#databunch = DataBunch.create(train_dataset, val_dataset, bs=64, device = torch.device('cuda'))\n",
    "dls       = DataLoaders(train_dataloader, validation_dataloader)\n",
    "learn     = Learner(dls, base_model, loss_func = mae, metrics = [mse,mae])\n",
    "\n"
   ]
  },
  {
   "cell_type": "markdown",
   "metadata": {},
   "source": [
    "##### Learning"
   ]
  },
  {
   "cell_type": "code",
   "execution_count": 18,
   "metadata": {},
   "outputs": [
    {
     "ename": "AttributeError",
     "evalue": "'Learner' object has no attribute 'lr_find'",
     "output_type": "error",
     "traceback": [
      "\u001b[0;31m---------------------------------------------------------------------------\u001b[0m",
      "\u001b[0;31mAttributeError\u001b[0m                            Traceback (most recent call last)",
      "\u001b[0;32m<ipython-input-18-c7a9c29f9dd1>\u001b[0m in \u001b[0;36m<module>\u001b[0;34m\u001b[0m\n\u001b[0;32m----> 1\u001b[0;31m \u001b[0mlearn\u001b[0m\u001b[0;34m.\u001b[0m\u001b[0mlr_find\u001b[0m\u001b[0;34m(\u001b[0m\u001b[0;34m)\u001b[0m\u001b[0;34m\u001b[0m\u001b[0;34m\u001b[0m\u001b[0m\n\u001b[0m\u001b[1;32m      2\u001b[0m \u001b[0mlearn\u001b[0m\u001b[0;34m.\u001b[0m\u001b[0mrecorder\u001b[0m\u001b[0;34m.\u001b[0m\u001b[0mplot\u001b[0m\u001b[0;34m(\u001b[0m\u001b[0;34m)\u001b[0m\u001b[0;34m\u001b[0m\u001b[0;34m\u001b[0m\u001b[0m\n",
      "\u001b[0;31mAttributeError\u001b[0m: 'Learner' object has no attribute 'lr_find'"
     ]
    }
   ],
   "source": [
    "learn.lr_find()\n",
    "learn.recorder.plot()"
   ]
  },
  {
   "cell_type": "code",
   "execution_count": null,
   "metadata": {},
   "outputs": [],
   "source": [
    "learn.fit(n_epoch = 10, lr = 0.001)"
   ]
  },
  {
   "cell_type": "code",
   "execution_count": null,
   "metadata": {},
   "outputs": [],
   "source": [
    "learn.fit(n_epoch = 10, lr = 0.0001)"
   ]
  }
 ],
 "metadata": {
  "kernelspec": {
   "display_name": "Python 3",
   "language": "python",
   "name": "python3"
  },
  "language_info": {
   "codemirror_mode": {
    "name": "ipython",
    "version": 3
   },
   "file_extension": ".py",
   "mimetype": "text/x-python",
   "name": "python",
   "nbconvert_exporter": "python",
   "pygments_lexer": "ipython3",
   "version": "3.8.5"
  }
 },
 "nbformat": 4,
 "nbformat_minor": 4
}
